{
  "metadata": {
    "language_info": {
      "name": ""
    },
    "kernelspec": {
      "name": "python",
      "display_name": "Python (Pyodide)",
      "language": "python"
    }
  },
  "nbformat_minor": 4,
  "nbformat": 4,
  "cells": [
    {
      "cell_type": "markdown",
      "source": "Data Science Tools and Ecosystem",
      "metadata": {}
    },
    {
      "cell_type": "markdown",
      "source": "Introduction",
      "metadata": {}
    },
    {
      "cell_type": "markdown",
      "source": "Data Science Languages:\npython\nR\nGO\nC++\njava\nscala\njuila\nsql",
      "metadata": {}
    },
    {
      "cell_type": "markdown",
      "source": "Data Science Libraries: Pandas, NumPy, SciPy, and Matplotlib. ",
      "metadata": {}
    },
    {
      "cell_type": "markdown",
      "source": "Tools used Weka, Java-ML, Apache MLlib, and Deeplearning4.",
      "metadata": {}
    },
    {
      "cell_type": "markdown",
      "source": "introducing arithmetic expression examples.",
      "metadata": {}
    },
    {
      "cell_type": "code",
      "source": "def multiply_add(a,b,operation):\n    if(operation == \"add\"):\n        return a+b\n    elif(operation == \"multiply\"):\n        return a*b\n     \nmultiply_add(1,2,\"add\")",
      "metadata": {
        "trusted": true
      },
      "execution_count": null,
      "outputs": []
    },
    {
      "cell_type": "code",
      "source": "minutes = 20\nhours = minutes/60\nprint(hours)",
      "metadata": {
        "trusted": true
      },
      "execution_count": null,
      "outputs": []
    },
    {
      "cell_type": "markdown",
      "source": "Objectives",
      "metadata": {}
    },
    {
      "cell_type": "markdown",
      "source": "Author Name: Sai Teja Chakali",
      "metadata": {}
    },
    {
      "cell_type": "code",
      "source": "",
      "metadata": {},
      "execution_count": null,
      "outputs": []
    }
  ]
}