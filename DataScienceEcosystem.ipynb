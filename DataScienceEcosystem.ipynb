{
 "cells": [
  {
   "cell_type": "markdown",
   "id": "6a867317",
   "metadata": {},
   "source": [
    "<h1> Data Science Tools and Ecosystem</h1>"
   ]
  },
  {
   "cell_type": "markdown",
   "id": "18d5b9cb",
   "metadata": {},
   "source": [
    "In this notebook, Data Science Tools and Ecosystem are summarized."
   ]
  },
  {
   "cell_type": "markdown",
   "id": "9dc265f8",
   "metadata": {},
   "source": [
    "<h1> Some of the popular languages that Data Scientists use are: </h1>\n",
    "<ol>\n",
    "  <li>Python</li>\n",
    "  <li>R</li>\n",
    "  <li>SQL</li>\n",
    "  <li>Scala</li>\n",
    "  <li>Java</li>\n",
    "  <li>C++</li>\n",
    "  <li>Julia</li>\n",
    "</ol>"
   ]
  },
  {
   "cell_type": "markdown",
   "id": "e7db4f8b",
   "metadata": {},
   "source": [
    "<h1>Some of the commonly used libraries used by Data Scientists include:</h1>\n",
    "<ol>\n",
    "  <li>Pandas</li>\n",
    "  <li>NumPy</li>\n",
    "  <li>SciPy</li>\n",
    "  <li>Matplotlib</li>\n",
    "</ol>"
   ]
  },
  {
   "cell_type": "markdown",
   "id": "b607a79a",
   "metadata": {},
   "source": [
    "<h1>Data Science Tools</h1>"
   ]
  },
  {
   "cell_type": "markdown",
   "id": "e7696630",
   "metadata": {},
   "source": [
    "<table>\n",
    "  <tr>\n",
    "    <th>Area</th>\n",
    "    <th>Tools</th>\n",
    "  </tr>\n",
    "  <tr>\n",
    "    <td>Data integration and transformation</td>\n",
    "    <td>Apache AirFlow, KubeFlow, Apache Kafka, Apache Nifi, Apache SparkSQL, and NodeRED</td>\n",
    "  </tr>\n",
    "  <tr>\n",
    "    <td>Data Visualization</td>\n",
    "    <td>Pixie Dust, Hue, Kibana, and Apache Superset.</td>\n",
    "  </tr>\n",
    "  <tr>\n",
    "    <td>Code asset management tools</td>\n",
    "    <td>Git, GitHub, GitLab, and Bitbucket</td>\n",
    "  </tr>\n",
    "</table>"
   ]
  },
  {
   "cell_type": "markdown",
   "id": "374a9ddd",
   "metadata": {},
   "source": [
    "<h3>Below are a few examples of evaluating arithmetic expressions in Python</h3>"
   ]
  },
  {
   "cell_type": "code",
   "execution_count": 6,
   "id": "c28644b0",
   "metadata": {},
   "outputs": [
    {
     "name": "stdout",
     "output_type": "stream",
     "text": [
      "17\n"
     ]
    }
   ],
   "source": [
    "#This a simple arithmetic expression to mutiply then add integers\n",
    "a = 3\n",
    "b = 4\n",
    "c = 5\n",
    "arthmetic = (a*b)+c\n",
    "print(arthmetic)"
   ]
  },
  {
   "cell_type": "code",
   "execution_count": 7,
   "id": "be0d117e",
   "metadata": {},
   "outputs": [
    {
     "name": "stdout",
     "output_type": "stream",
     "text": [
      "3.3333333333333335\n"
     ]
    }
   ],
   "source": [
    "#This will convert 200 minutes to hours by diving by 60\n",
    "\n",
    "minutes = 200\n",
    "hours = minutes/60\n",
    "print(hours)"
   ]
  },
  {
   "cell_type": "markdown",
   "id": "08d25df8",
   "metadata": {},
   "source": [
    "\n",
    "<h1>List popular languages for Data Science</h1>\n",
    "<ul>\n",
    "  <li>Python</li>\n",
    "  <li>R</li>\n",
    "  <li>SQL</li>\n",
    "</ul>"
   ]
  },
  {
   "cell_type": "markdown",
   "id": "4716d5b3",
   "metadata": {},
   "source": [
    "<h2>Author</h2>\n",
    "SAI TEJA CHAKALI"
   ]
  },
  {
   "cell_type": "code",
   "execution_count": null,
   "id": "be6ac74f",
   "metadata": {},
   "outputs": [],
   "source": []
  }
 ],
 "metadata": {
  "kernelspec": {
   "display_name": "Python 3 (ipykernel)",
   "language": "python",
   "name": "python3"
  },
  "language_info": {
   "codemirror_mode": {
    "name": "ipython",
    "version": 3
   },
   "file_extension": ".py",
   "mimetype": "text/x-python",
   "name": "python",
   "nbconvert_exporter": "python",
   "pygments_lexer": "ipython3",
   "version": "3.10.9"
  }
 },
 "nbformat": 4,
 "nbformat_minor": 5
}
